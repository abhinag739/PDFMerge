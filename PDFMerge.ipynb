import PyPDF2
import os.path
from os import path

def browse(dir):

    fileExt=r'.pdf'
    if path.exists('all_merged.pdf') == False:

        files=[f for f in os.listdir(dir) if f.endswith(fileExt)]
        print('current path dont have pdf') if len(files)==0 else print('the file names are', files)

        #creating Pdf reader for each file   
        pdf_readers=[]
        for i in range(len(files)):
            pdf_readers.append(PyPDF2.PdfFileReader(files[i]))

        #The pdf writer object
        pdf_writers = PyPDF2.PdfFileWriter()


        #reading pages of each PDF and adding to pdf_writer
        for each_file in pdf_readers:
            for num in range(each_file.numPages):
                pageObj = each_file.getPage(num)
                
                pdf_writers.addPage(pageObj)

        #Writing to output file
        OutputFile = open('all_merged.pdf','wb')
        pdf_writers.write(OutputFile)

        #closing the writer and reader
        OutputFile.close()
    
    else:
        return "the pdf is already merged"
    
browse(os.getcwd())